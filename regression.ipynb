{
 "metadata": {
  "language_info": {
   "codemirror_mode": {
    "name": "ipython",
    "version": 3
   },
   "file_extension": ".py",
   "mimetype": "text/x-python",
   "name": "python",
   "nbconvert_exporter": "python",
   "pygments_lexer": "ipython3",
   "version": "3.9.0-final"
  },
  "orig_nbformat": 2,
  "kernelspec": {
   "name": "python3",
   "display_name": "Python 3"
  }
 },
 "nbformat": 4,
 "nbformat_minor": 2,
 "cells": [
  {
   "cell_type": "code",
   "execution_count": 61,
   "metadata": {},
   "outputs": [],
   "source": [
    "# Imports.\n",
    "import pandas as pd\n",
    "from pandas.core.frame import DataFrame\n",
    "from sklearn import linear_model\n",
    "\n",
    "import utils.invariants as invariants\n",
    "import utils.types as types"
   ]
  },
  {
   "cell_type": "code",
   "execution_count": 62,
   "metadata": {},
   "outputs": [],
   "source": [
    "# Aliases.\n",
    "LinearRegr = linear_model.LinearRegression"
   ]
  },
  {
   "cell_type": "code",
   "execution_count": 63,
   "metadata": {},
   "outputs": [],
   "source": [
    "# Read data.\n",
    "def get_dataframe(filepath: types.Path) -> DataFrame:\n",
    "    return pd.read_csv(filepath)"
   ]
  },
  {
   "cell_type": "code",
   "execution_count": 64,
   "metadata": {},
   "outputs": [],
   "source": [
    "# Regression function.\n",
    "def do_regression(independent, dependent):\n",
    "    # type: (types.IndependentVars, types.DependentVar) -> LinearRegr\n",
    "    model = LinearRegr()\n",
    "    model.fit(independent, dependent)\n",
    "    return model"
   ]
  },
  {
   "cell_type": "code",
   "execution_count": 65,
   "metadata": {},
   "outputs": [],
   "source": [
    "# Error discovering.\n",
    "def get_average_err(model, content, affecting_keys, investigated_key):\n",
    "    # type: (LinearRegr, DataFrame, list[str], str) -> float\n",
    "    for i in range(len(content.index)):\n",
    "        predicted = model.predict([\n",
    "            [content[key].values[i] for key in affecting_keys]\n",
    "        ])\n",
    "        veritable = content[investigated_key].values[i]\n",
    "        curr_err = abs(predicted - veritable)\n",
    "        aver_err = curr_err if i == 0 else (aver_err + curr_err) / 2\n",
    "    return aver_err.item()"
   ]
  },
  {
   "cell_type": "code",
   "execution_count": 66,
   "metadata": {
    "tags": []
   },
   "outputs": [
    {
     "output_type": "stream",
     "name": "stdout",
     "text": [
      "Train dataset size: 415754\nTests dataset size: 4797\nAvarage error: 0.08 (degC)\nModel accuracy: 92.33%\n"
     ]
    }
   ],
   "source": [
    "# Entry point.\n",
    "if __name__ == '__main__':\n",
    "    train_dataframe = get_dataframe('data/weather.csv')\n",
    "    tests_dataframe = get_dataframe('data/weather-test.csv')\n",
    "\n",
    "    # Get all model variables.\n",
    "    keys = invariants.feature_keys\n",
    "\n",
    "    # Define from which key the indepenent variables are placed.\n",
    "    key_from = 3  # Skip 'T (degC)', 'Tpot (K)' and 'Tdew (degC)'.\n",
    "\n",
    "    # Define dependent and independent variables.\n",
    "    independent = train_dataframe[keys[key_from:]]\n",
    "    dependent = train_dataframe[keys[0]]\n",
    "\n",
    "    # Define prediction model.\n",
    "    model = do_regression(independent, dependent)\n",
    "\n",
    "    # Get average error rate.\n",
    "    error = get_average_err(\n",
    "        model=model,\n",
    "        content=tests_dataframe,\n",
    "        affecting_keys=invariants.feature_keys[3:],\n",
    "        investigated_key=invariants.investigated_key\n",
    "    )\n",
    "\n",
    "    # Get model accuracy.\n",
    "    accuracy = (1 - error) * 100\n",
    "\n",
    "    # Outputs.\n",
    "    print(f'Train dataset size: {len(train_dataframe.index)}')\n",
    "    print(f'Tests dataset size: {len(tests_dataframe.index)}')\n",
    "    print(f'Avarage error: {round(error, 2)} (degC)')\n",
    "    print(f'Model accuracy: {round(accuracy, 2)}%')\n",
    "\n"
   ]
  }
 ]
}